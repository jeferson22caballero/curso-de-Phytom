{
 "cells": [
  {
   "cell_type": "code",
   "execution_count": 1,
   "id": "de8c404a",
   "metadata": {},
   "outputs": [],
   "source": [
    "import pruebas\n",
    "from IPython import display"
   ]
  },
  {
   "cell_type": "markdown",
   "id": "c1ff476c",
   "metadata": {},
   "source": [
    "# PRIMER EJERCICIO: \n",
    "##  -- Hello World! --\n",
    "\n",
    "#### Cambia el nombre de Adolf Hittler por tu nombre o como te gustaria haberte llamado."
   ]
  },
  {
   "cell_type": "code",
   "execution_count": 2,
   "id": "b129744c",
   "metadata": {},
   "outputs": [
    {
     "name": "stdout",
     "output_type": "stream",
     "text": [
      "Hello World, My name is: jeferson caballero\n",
      "Hola Mundo, Mi nombre es: jeferson caballero\n"
     ]
    }
   ],
   "source": [
    "my_name = \"jeferson caballero\" # <--- Your name\n",
    "\n",
    "\n",
    "#Checking your name\n",
    "pruebas.check_name(my_name)"
   ]
  },
  {
   "cell_type": "markdown",
   "id": "c1c24b5c",
   "metadata": {},
   "source": [
    "# SEGUNDO EJERCICIO:\n",
    "## -- Comments --\n",
    "#### Escribe lo que te gustaria decirle a alguien que quieras, en una linea, y en otra escribe lo que le quieras decir a alguien que te haya lastimado recientemente."
   ]
  },
  {
   "cell_type": "code",
   "execution_count": 3,
   "id": "f0d1343d",
   "metadata": {},
   "outputs": [],
   "source": [
    "#Escribe aqui abajo\n",
    "#dia de clases\n",
    "\n",
    "\n"
   ]
  },
  {
   "cell_type": "markdown",
   "id": "ae2fbf0c",
   "metadata": {},
   "source": [
    "# TERCER EJERCICIO:\n",
    "## -- Prints --\n",
    "#### Imprime tu primer Hola Mundo! entre comillas ---> \"texto\", usando print statement"
   ]
  },
  {
   "cell_type": "code",
   "execution_count": 4,
   "id": "b6d5902c",
   "metadata": {},
   "outputs": [
    {
     "name": "stdout",
     "output_type": "stream",
     "text": [
      "Salut Monde!\n",
      "hola mundo\n"
     ]
    }
   ],
   "source": [
    "#Ejemplo: \n",
    "print(\"Salut Monde!\")\n",
    "\n",
    "#Tu codigo aqui abajo:\n",
    "print(\"hola mundo\")"
   ]
  },
  {
   "cell_type": "markdown",
   "id": "a78fc14d",
   "metadata": {},
   "source": [
    "# CUARTO EJERCICIO:\n",
    "## -- Strings --\n",
    "#### Imprime tu nombre con comillas dobles, y con comillas simples."
   ]
  },
  {
   "cell_type": "code",
   "execution_count": 5,
   "id": "ce30e812",
   "metadata": {},
   "outputs": [
    {
     "name": "stdout",
     "output_type": "stream",
     "text": [
      "Patricio Estrella\n",
      "Bob Esponja\n",
      "jeferson caballero\n",
      "jeferson caballero\n"
     ]
    }
   ],
   "source": [
    "#Ejemplo:\n",
    "print(\"Patricio Estrella\")\n",
    "print('Bob Esponja')\n",
    "\n",
    "#Tu codigo aqui abajo:\n",
    "print(\"jeferson caballero\")\n",
    "print('jeferson caballero')\n"
   ]
  },
  {
   "cell_type": "markdown",
   "id": "b48157e3",
   "metadata": {},
   "source": [
    "# QUINTO EJERCICIO:\n",
    "## -- Variables --\n",
    "#### Crea una variable llamada movie_1, asignale como valor una cadena con el nombre de una de tus peliculas favoritas, e imprime la variable para ver lo que contiene tu variable."
   ]
  },
  {
   "cell_type": "code",
   "execution_count": 6,
   "id": "1986b052",
   "metadata": {},
   "outputs": [
    {
     "name": "stdout",
     "output_type": "stream",
     "text": [
      "rapido furioso\n"
     ]
    }
   ],
   "source": [
    "#Tu codigo aqui abajo:\n",
    "movie_1 = \"rapido furioso\"\n",
    "print(movie_1)"
   ]
  },
  {
   "cell_type": "markdown",
   "id": "2499d17e",
   "metadata": {},
   "source": [
    "# SEXTO EJERCICIO:\n",
    "## -- Bugs or Errors --\n",
    "#### Cambia el codigo de abajo para que no tengas ningun bug en tu codigo. "
   ]
  },
  {
   "cell_type": "code",
   "execution_count": 7,
   "id": "32db49b6",
   "metadata": {},
   "outputs": [
    {
     "name": "stdout",
     "output_type": "stream",
     "text": [
      "Hacer codigo es facil, lo dificil es arreglar los bugs\n",
      "CUBO\n"
     ]
    }
   ],
   "source": [
    "#First error is: SyntaxError\n",
    "print(\"Hacer codigo es facil, lo dificil es arreglar los bugs\")\n",
    "      \n",
    "#Second error is: NameError\n",
    "print(\"CUBO\")"
   ]
  },
  {
   "cell_type": "markdown",
   "id": "91771719",
   "metadata": {},
   "source": [
    "# SEPTIMO EJERCICIO:\n",
    "## -- Numbers --"
   ]
  },
  {
   "cell_type": "code",
   "execution_count": 8,
   "id": "886b92a5",
   "metadata": {},
   "outputs": [
    {
     "data": {
      "text/plain": [
       "'Great this is a good float'"
      ]
     },
     "execution_count": 8,
     "metadata": {},
     "output_type": "execute_result"
    }
   ],
   "source": [
    "#Escribe tu fecha de nacimiento segun la variable asignada donde debe de ir cada uno de los numeros.\n",
    "year = 2007\n",
    "day = 13\n",
    "month = 1\n",
    "\n",
    "#Escribe tu dia y mes de nacimiento, pero en formato float y los numeros de tu año de nacimiento sumados\n",
    "\n",
    "#ejemplo:\n",
    "my_birthday_float = 31.122 #---> 31 == Day, 1 == Month, 22 == year (1+9+5+7, 1957)\n",
    "\n",
    "#your turn\n",
    "floats_or_fraction =13.19\n",
    "\n",
    "#Checking your float number\n",
    "pruebas.check_birthday_float(year, day, month, floats_or_fraction)"
   ]
  },
  {
   "cell_type": "markdown",
   "id": "06a2cedd",
   "metadata": {},
   "source": [
    "# OCTAVO EJERCICIO:\n",
    "## -- Calculations --\n",
    "#### Imprima el resultado de la siguiente operation: 388.786 + 545.36 / 25 * 15"
   ]
  },
  {
   "cell_type": "code",
   "execution_count": 9,
   "id": "fb5784bd",
   "metadata": {},
   "outputs": [
    {
     "name": "stdout",
     "output_type": "stream",
     "text": [
      "716.002\n"
     ]
    },
    {
     "data": {
      "text/plain": [
       "'Excelente, tu resultado es correcto, sigue mejorando'"
      ]
     },
     "execution_count": 9,
     "metadata": {},
     "output_type": "execute_result"
    }
   ],
   "source": [
    "#Tu codigo aqui abajo:\n",
    "\n",
    "operation = 388.786 + 545.36 / 25 * 15\n",
    "\n",
    "#Imprima el resultado:\n",
    "print(operation\n",
    "    )\n",
    "\n",
    "\n",
    "#Checking your variable\n",
    "pruebas.check_operation(operation)"
   ]
  },
  {
   "cell_type": "markdown",
   "id": "6eebac29",
   "metadata": {},
   "source": [
    "# NOVENO EJERCICIO:\n",
    "## -- Changing Numbers --\n",
    "#### Medidas de mis edredones"
   ]
  },
  {
   "cell_type": "code",
   "execution_count": 10,
   "id": "08e6298b",
   "metadata": {},
   "outputs": [
    {
     "name": "stdout",
     "output_type": "stream",
     "text": [
      "400\n"
     ]
    },
    {
     "data": {
      "text/plain": [
       "'Genial, eres bueno en esto, sigue mejorando'"
      ]
     },
     "execution_count": 10,
     "metadata": {},
     "output_type": "execute_result"
    }
   ],
   "source": [
    "quilts_width = 20\n",
    "quilts_length = 20\n",
    "\n",
    "#Checking the first measures\n",
    "pruebas.check_measures_1(quilts_width, quilts_length)\n",
    "\n",
    "\n",
    "#Imprime las medidas totales de tu edredon, ejemplo: width * length\n",
    "#Tu codigo aqui abajo:\n",
    "print (quilts_width * quilts_length)\n",
    "\n",
    "#Cambia la variable quilts_length con un valor de 15.7\n",
    "#Y quilts_width con un valor de 15\n",
    "\n",
    "quilts_width =15\n",
    "quilts_length=15.7\n",
    "\n",
    "\n",
    "#Checking your variables\n",
    "pruebas.check_measures_2(quilts_width, quilts_length)"
   ]
  },
  {
   "cell_type": "markdown",
   "id": "09aa0c58",
   "metadata": {},
   "source": [
    "# DECIMO EJERCICIO:\n",
    "## -- Exponents --\n",
    "\n",
    "#### Instructions:\n",
    "1: Me gusta mucho cómo quedaron los edredones cuadrados del último ejercicio y he decido que todos los edredones que haga serán cuadrados a partir de ahora. Usando el operador exponente, imprime cuántos mosaicos necesitarás para una colcha de 6x6, una colcha de 7x7 y una colcha de 8x8.\n",
    "\n",
    "2: Sus edredones de 6x6 han despegado tan bien que 6 personas han solicitado 6 edredones cada uno. Imprime cuántos mosaicos necesitarías para hacer 6 edredones cada uno para 6 personas."
   ]
  },
  {
   "cell_type": "code",
   "execution_count": 11,
   "id": "d4cd4d79",
   "metadata": {},
   "outputs": [
    {
     "data": {
      "text/plain": [
       "'Genial, tus edredones 6x6 necesitan 36 mosaicos, tus edredones de 7x7 necesitan 49 mosaicos, y tus edredones 8x8 necesitan 64 mosaicos'"
      ]
     },
     "execution_count": 11,
     "metadata": {},
     "output_type": "execute_result"
    }
   ],
   "source": [
    "#Step 1: Aqui haz el primer paso que se te solicita en la explicacion.\n",
    "#ejemplo: 3x3 ---> 3**2, 4x4 ---> 4**2\n",
    "\n",
    "quilts_6x6 = 6 ** 2\n",
    "\n",
    "quilts_7x7 = 7 ** 2\n",
    "\n",
    "quilts_8x8 = 8 ** 2\n",
    "\n",
    "\n",
    "#Checking your quilts\n",
    "pruebas.checking_quilts(quilts_6x6, quilts_7x7, quilts_8x8)"
   ]
  },
  {
   "cell_type": "code",
   "execution_count": 12,
   "id": "f258378d",
   "metadata": {},
   "outputs": [
    {
     "data": {
      "text/plain": [
       "'WOW, eres realmente increible, sigue mejorando'"
      ]
     },
     "execution_count": 12,
     "metadata": {},
     "output_type": "execute_result"
    }
   ],
   "source": [
    "#Step 2: Aqui aplica lo que se te solicita en el paso 2 de la explicacion de arriba.\n",
    "\n",
    "quilts_for_6_persons = 6**4\n",
    "\n",
    "#Checking your quilt\n",
    "pruebas.checking_quilt(quilts_for_6_persons)"
   ]
  },
  {
   "cell_type": "markdown",
   "id": "34b074c3",
   "metadata": {},
   "source": [
    "# UNDECIMO EJERCICIO:\n",
    "## -- Modulo --\n",
    "\n"
   ]
  },
  {
   "cell_type": "code",
   "execution_count": 13,
   "id": "2efd79da",
   "metadata": {},
   "outputs": [
    {
     "name": "stdout",
     "output_type": "stream",
     "text": [
      "34\n",
      "28\n"
     ]
    }
   ],
   "source": [
    "#Juega con varios operations usando el modulo %\n",
    "#Tu codigo aqui abajo:\n",
    "print (34 % 73)\n",
    "print (28 % 29)\n"
   ]
  },
  {
   "cell_type": "markdown",
   "id": "b3272a78",
   "metadata": {},
   "source": [
    "# DUODECIMO EJERCICIO:\n",
    "## -- Concatenation --\n",
    "#### Concatena todas las strings"
   ]
  },
  {
   "cell_type": "code",
   "execution_count": 14,
   "id": "80735c4a",
   "metadata": {},
   "outputs": [
    {
     "name": "stdout",
     "output_type": "stream",
     "text": [
      "El CUBO me ha dado una gran oportunidad de aprendizaje, puedo hacer codigo con python, y sin tener que pagar un solo centavo. Procurare dar el maximo para mejorar cada dia, gracias al CUBO y a todos los que estan aqui por apoyarme.\n"
     ]
    },
    {
     "data": {
      "text/plain": [
       "'El CUBO me ha dado una gran oportunidad de aprendizaje, \\n   puedo hacer codigo con python, y sin tener que pagar un solo centavo. \\n   Procurare dar el maximo para mejorar cada dia, \\n   gracias al CUBO y a todos los que estan aqui por apoyarme.'"
      ]
     },
     "execution_count": 14,
     "metadata": {},
     "output_type": "execute_result"
    }
   ],
   "source": [
    "string1 = \"El CUBO me ha dado \"\n",
    "string2 = \"una gran oportunidad de aprendizaje, \"\n",
    "string3 = \"puedo hacer codigo con python, y \"\n",
    "string4 = \"sin tener que pagar un solo centavo.\"\n",
    "string5 = \" Procurare dar el maximo para mejorar cada dia, gracias al CUBO \"\n",
    "string6 = \"y a todos los que estan aqui por apoyarme.\"\n",
    "\n",
    "#Tu codigo aqui abajo:full_string = string1+string2+string3+string4+string5+string6\n",
    "print (string1+string2+string3+string4+string5+string6)\n",
    "\n",
    "#Esto tienes que imprimir usando la concatenacion de todas las strings anteriores: \n",
    "\"\"\"El CUBO me ha dado una gran oportunidad de aprendizaje, \n",
    "   puedo hacer codigo con python, y sin tener que pagar un solo centavo. \n",
    "   Procurare dar el maximo para mejorar cada dia, \n",
    "   gracias al CUBO y a todos los que estan aqui por apoyarme.\"\"\""
   ]
  },
  {
   "cell_type": "markdown",
   "id": "c2eb72b6",
   "metadata": {},
   "source": [
    "# DECIMOTERCER EJERCICIO:\n",
    "## -- Plus Equals --\n",
    "#### Supongamos que eres el gerente general de una gran tiendita muy reconocida en tu colonia, \"Tiendita La Bendi\" y tienes que actualizar los precios de 3 de tus productos."
   ]
  },
  {
   "cell_type": "code",
   "execution_count": 15,
   "id": "8e7ed0ff",
   "metadata": {},
   "outputs": [
    {
     "name": "stdout",
     "output_type": "stream",
     "text": [
      "0.7999999999999999\n",
      "0.7\n",
      "0.85\n"
     ]
    }
   ],
   "source": [
    "precio_churrito = 0.15\n",
    "\n",
    "precio_soda_bien_fria = 0.70\n",
    "\n",
    "precio_soda_no_fria = 0.60\n",
    "\n",
    "precio_soda_fiadores = 0.75\n",
    "\n",
    "#Llega el de la coca y te dice que la soda costara $0.10 centavos mas.\n",
    "#Aumenta el precio a las 3 variables de soda, usando += \n",
    "\n",
    "#tu codigo aqui abajo\n",
    "precio_soda_bien_fria+=0.10\n",
    "precio_soda_no_fria+=0.10\n",
    "precio_soda_fiadores+=0.10\n",
    "\n",
    "\n",
    "\n",
    "\n",
    "\n",
    "#Printing tus precios, tienen que tener 0.80, 0.70 y 0.85 como resultados.\n",
    "print(precio_soda_bien_fria)\n",
    "print(precio_soda_no_fria)\n",
    "print(precio_soda_fiadores)"
   ]
  },
  {
   "cell_type": "markdown",
   "id": "c8e443f7",
   "metadata": {},
   "source": [
    "# DECIMOCUARTO EJERCICIO:\n",
    "## -- Multi-line Strings --\n",
    "#### Busca en google algun poema de Hugo Lindo, u otro poeta  y escritor de El Salvador, y escribe al menos 7 lineas de un poema, guarda la Multi-line string en una variable llamada con el nombre del poema que copiaste e imprimela."
   ]
  },
  {
   "cell_type": "code",
   "execution_count": 16,
   "id": "d536b47b",
   "metadata": {},
   "outputs": [
    {
     "data": {
      "text/plain": [
       "'Un río largo descendía por la historia\\nhasta llegar a tu lugar preciso.\\n\\n\\nLa sombra iba nadando sobre el río.\\nEl aire\\nle pasaba la mano suavemente.\\n\\n\\nY los sauces lloraban siglo a siglo\\nsus hojas,\\nsu rocío,\\nsu ternura,\\npara amparar la soledad del hombre.\\n\\n\\nPero era menester que te agobiara\\nla carga de los días.\\n\\n\\nQue la noche\\nse te echara en el alma y te mordiera.\\n\\n\\nQue la razón del mundo y su pregunta\\nse te enroscaran en la voz.\\nQue el vino fuera\\nvinagre ya en las comisuras.\\n\\n\\nY era\\nindispensable el fuego de los ojos\\nla sal atroz,\\nmadrina de su brillo.\\n\\n\\nY la espina del paso.\\nY la aterida\\nmordida del invierno en la piel tensa.\\n\\n\\nSin eso\\nno serías el hallazgo,\\nla flor abierta al ámbito del día,\\nla mano recia\\nni la mano dulce.\\n\\n\\nSin eso, simplemente, te hallarías\\nmineral,\\nvegetal,\\nseco,\\nvacío,\\nrondando apenas el envés del mundo.\\n\\n\\nLa rosa se te dió,\\ngloria en la vista,\\nmiel del olfato,\\nlevedad del tacto,\\nporque lloraste encima de sus brotes.\\n\\n\\nLa luz se te otorgó\\nporque venías\\nsilencioso y sangrante\\npor el túnel.'"
      ]
     },
     "execution_count": 16,
     "metadata": {},
     "output_type": "execute_result"
    }
   ],
   "source": [
    "#Ejemplo. Poema: Dejad pues que Sucumba, De: Hugo Lindo:\n",
    "dejad_pues_que_sucumba = \"\"\"\n",
    "\n",
    "Todo el dolor te navegaba por la sangre.\n",
    "Un río largo descendía por la historia\n",
    "hasta llegar a tu lugar preciso.\n",
    "\n",
    "\n",
    "La sombra iba nadando sobre el río.\n",
    "El aire\n",
    "le pasaba la mano suavemente.\n",
    "\n",
    "\n",
    "Y los sauces lloraban siglo a siglo\n",
    "sus hojas,\n",
    "su rocío,\n",
    "su ternura,\n",
    "para amparar la soledad del hombre. \n",
    "...\n",
    "\n",
    "Hugo Lindo\"\"\"\n",
    "\n",
    "\n",
    "#Tu codigo aqui abajo:Todo el dolor te navegaba por la sangre.\n",
    "\"\"\"Un río largo descendía por la historia\n",
    "hasta llegar a tu lugar preciso.\n",
    "\n",
    "\n",
    "La sombra iba nadando sobre el río.\n",
    "El aire\n",
    "le pasaba la mano suavemente.\n",
    "\n",
    "\n",
    "Y los sauces lloraban siglo a siglo\n",
    "sus hojas,\n",
    "su rocío,\n",
    "su ternura,\n",
    "para amparar la soledad del hombre.\n",
    "\n",
    "\n",
    "Pero era menester que te agobiara\n",
    "la carga de los días.\n",
    "\n",
    "\n",
    "Que la noche\n",
    "se te echara en el alma y te mordiera.\n",
    "\n",
    "\n",
    "Que la razón del mundo y su pregunta\n",
    "se te enroscaran en la voz.\n",
    "Que el vino fuera\n",
    "vinagre ya en las comisuras.\n",
    "\n",
    "\n",
    "Y era\n",
    "indispensable el fuego de los ojos\n",
    "la sal atroz,\n",
    "madrina de su brillo.\n",
    "\n",
    "\n",
    "Y la espina del paso.\n",
    "Y la aterida\n",
    "mordida del invierno en la piel tensa.\n",
    "\n",
    "\n",
    "Sin eso\n",
    "no serías el hallazgo,\n",
    "la flor abierta al ámbito del día,\n",
    "la mano recia\n",
    "ni la mano dulce.\n",
    "\n",
    "\n",
    "Sin eso, simplemente, te hallarías\n",
    "mineral,\n",
    "vegetal,\n",
    "seco,\n",
    "vacío,\n",
    "rondando apenas el envés del mundo.\n",
    "\n",
    "\n",
    "La rosa se te dió,\n",
    "gloria en la vista,\n",
    "miel del olfato,\n",
    "levedad del tacto,\n",
    "porque lloraste encima de sus brotes.\n",
    "\n",
    "\n",
    "La luz se te otorgó\n",
    "porque venías\n",
    "silencioso y sangrante\n",
    "por el túnel.\"\"\"\n",
    "\n",
    "\n",
    "\n",
    "\n",
    "\n"
   ]
  },
  {
   "cell_type": "code",
   "execution_count": null,
   "id": "e786e397",
   "metadata": {},
   "outputs": [],
   "source": []
  },
  {
   "cell_type": "code",
   "execution_count": null,
   "id": "ce894029",
   "metadata": {},
   "outputs": [],
   "source": []
  }
 ],
 "metadata": {
  "kernelspec": {
   "display_name": "Python 3 (ipykernel)",
   "language": "python",
   "name": "python3"
  },
  "language_info": {
   "codemirror_mode": {
    "name": "ipython",
    "version": 3
   },
   "file_extension": ".py",
   "mimetype": "text/x-python",
   "name": "python",
   "nbconvert_exporter": "python",
   "pygments_lexer": "ipython3",
   "version": "3.9.12"
  }
 },
 "nbformat": 4,
 "nbformat_minor": 5
}
